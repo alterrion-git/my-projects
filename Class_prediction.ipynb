{
 "cells": [
  {
   "cell_type": "markdown",
   "metadata": {},
   "source": [
    "## 1. Aims, objectives and plan (4 marks)"
   ]
  },
  {
   "cell_type": "markdown",
   "metadata": {},
   "source": [
    "### a) Aims and objectives\n",
    "\n",
    "The overarching objective is to provide an insurance company with a model that detects fraud cases, as per the case study provided. Given a set of historical csv datasets with various information about the claim, policy, demographics etc., the main requirement is to generate a model that can achieve a balanced error rate of 5%, using two different modelling techniques. As many of the provided features should be taken into account and appropriate metrics used. The final results must also be financially quantified to provide the client with an insight into how our model will affect their business."
   ]
  },
  {
   "cell_type": "markdown",
   "metadata": {},
   "source": [
    "## 2. Understanding the case study (4 marks)"
   ]
  },
  {
   "cell_type": "markdown",
   "metadata": {},
   "source": [
    "###  Case study analysis\n",
    "\n",
    "1. False positives (assuming fraudulent=positive) lead to complete loss of the customer, which should be minimised as much as possible.\n",
    "2. False negatives on the other hand lead to the company paying out sums of money that the model could have flagged and thus avoided. This will again need to be minimised, as this is the main reason why such a model would be used over just paying all claims without any investigation.\n",
    "3. The gain and loss from the above will need to be quantified by creating a pricing model, which would likely be the key determinant if the model is successful for the client. It remains to be seen whether the gain of not paying out fraudulent claims even offsets the potential loss of customers.\n",
    "4. We are asked to obtain a balanced error (or 1-accuracy) below 5%, which uses recall (or detect) scores. This is a core requirement from the client and thus the main objective for our models in all techniques. It is also much more appropriate than simple accuracy given the imbalanced nature of fraud cases.\n",
    "5. The requested error rate is very low, given the nature of the data. The models must generalise well to unseen cases and it remains to be seen if the very error rate required can be achieved after cross-validation and other measures to ensure generalisability are implemented."
   ]
  },
  {
   "cell_type": "markdown",
   "metadata": {},
   "source": [
    "## 3. Pre-processing applied (20 marks)"
   ]
  },
  {
   "cell_type": "markdown",
   "metadata": {},
   "source": [
    "###  a) Importing libraries and merging datasets"
   ]
  },
  {
   "cell_type": "code",
   "execution_count": 1,
   "metadata": {},
   "outputs": [],
   "source": [
    "import numpy as np\n",
    "import pandas as pd\n",
    "import matplotlib.pyplot as plt"
   ]
  },
  {
   "cell_type": "markdown",
   "metadata": {},
   "source": [
    "Before anything else can be done, the datasets should first be merged into one dataframe that we can use."
   ]
  },
  {
   "cell_type": "code",
   "execution_count": 2,
   "metadata": {},
   "outputs": [
    {
     "data": {
      "text/html": [
       "<div>\n",
       "<style scoped>\n",
       "    .dataframe tbody tr th:only-of-type {\n",
       "        vertical-align: middle;\n",
       "    }\n",
       "\n",
       "    .dataframe tbody tr th {\n",
       "        vertical-align: top;\n",
       "    }\n",
       "\n",
       "    .dataframe thead th {\n",
       "        text-align: right;\n",
       "    }\n",
       "</style>\n",
       "<table border=\"1\" class=\"dataframe\">\n",
       "  <thead>\n",
       "    <tr style=\"text-align: right;\">\n",
       "      <th></th>\n",
       "      <th>ReportedFraud</th>\n",
       "      <th>DateOfIncident</th>\n",
       "      <th>TypeOfIncident</th>\n",
       "      <th>TypeOfCollission</th>\n",
       "      <th>SeverityOfIncident</th>\n",
       "      <th>AuthoritiesContacted</th>\n",
       "      <th>IncidentState</th>\n",
       "      <th>IncidentCity</th>\n",
       "      <th>IncidentAddress</th>\n",
       "      <th>IncidentTime</th>\n",
       "      <th>...</th>\n",
       "      <th>InsurancePolicyState</th>\n",
       "      <th>Policy_CombinedSingleLimit</th>\n",
       "      <th>Policy_Deductible</th>\n",
       "      <th>PolicyAnnualPremium</th>\n",
       "      <th>UmbrellaLimit</th>\n",
       "      <th>InsuredRelationship</th>\n",
       "      <th>VehicleID</th>\n",
       "      <th>VehicleMake</th>\n",
       "      <th>VehicleModel</th>\n",
       "      <th>VehicleYOM</th>\n",
       "    </tr>\n",
       "    <tr>\n",
       "      <th>CustomerID</th>\n",
       "      <th></th>\n",
       "      <th></th>\n",
       "      <th></th>\n",
       "      <th></th>\n",
       "      <th></th>\n",
       "      <th></th>\n",
       "      <th></th>\n",
       "      <th></th>\n",
       "      <th></th>\n",
       "      <th></th>\n",
       "      <th></th>\n",
       "      <th></th>\n",
       "      <th></th>\n",
       "      <th></th>\n",
       "      <th></th>\n",
       "      <th></th>\n",
       "      <th></th>\n",
       "      <th></th>\n",
       "      <th></th>\n",
       "      <th></th>\n",
       "      <th></th>\n",
       "    </tr>\n",
       "  </thead>\n",
       "  <tbody>\n",
       "    <tr>\n",
       "      <th>Cust20065</th>\n",
       "      <td>N</td>\n",
       "      <td>2015-01-09</td>\n",
       "      <td>Multi-vehicle Collision</td>\n",
       "      <td>Rear Collision</td>\n",
       "      <td>Total Loss</td>\n",
       "      <td>Other</td>\n",
       "      <td>State9</td>\n",
       "      <td>City4</td>\n",
       "      <td>Location 1404</td>\n",
       "      <td>19</td>\n",
       "      <td>...</td>\n",
       "      <td>State2</td>\n",
       "      <td>250/500</td>\n",
       "      <td>2000</td>\n",
       "      <td>1142.87</td>\n",
       "      <td>0</td>\n",
       "      <td>own-child</td>\n",
       "      <td>Vehicle30662</td>\n",
       "      <td>Mercedes</td>\n",
       "      <td>E400</td>\n",
       "      <td>2005</td>\n",
       "    </tr>\n",
       "    <tr>\n",
       "      <th>Cust37589</th>\n",
       "      <td>N</td>\n",
       "      <td>2015-02-20</td>\n",
       "      <td>Single Vehicle Collision</td>\n",
       "      <td>Side Collision</td>\n",
       "      <td>Minor Damage</td>\n",
       "      <td>Ambulance</td>\n",
       "      <td>State4</td>\n",
       "      <td>City3</td>\n",
       "      <td>Location 1675</td>\n",
       "      <td>14</td>\n",
       "      <td>...</td>\n",
       "      <td>State2</td>\n",
       "      <td>100/300</td>\n",
       "      <td>1000</td>\n",
       "      <td>1274.38</td>\n",
       "      <td>2857344</td>\n",
       "      <td>own-child</td>\n",
       "      <td>Vehicle17183</td>\n",
       "      <td>Toyota</td>\n",
       "      <td>Highlander</td>\n",
       "      <td>2010</td>\n",
       "    </tr>\n",
       "    <tr>\n",
       "      <th>Cust24312</th>\n",
       "      <td>N</td>\n",
       "      <td>2015-01-14</td>\n",
       "      <td>Multi-vehicle Collision</td>\n",
       "      <td>Side Collision</td>\n",
       "      <td>Major Damage</td>\n",
       "      <td>Ambulance</td>\n",
       "      <td>State5</td>\n",
       "      <td>City2</td>\n",
       "      <td>Location 1546</td>\n",
       "      <td>21</td>\n",
       "      <td>...</td>\n",
       "      <td>State1</td>\n",
       "      <td>500/1000</td>\n",
       "      <td>745</td>\n",
       "      <td>1269.93</td>\n",
       "      <td>0</td>\n",
       "      <td>other-relative</td>\n",
       "      <td>Vehicle33982</td>\n",
       "      <td>Volkswagen</td>\n",
       "      <td>Passat</td>\n",
       "      <td>2002</td>\n",
       "    </tr>\n",
       "    <tr>\n",
       "      <th>Cust5493</th>\n",
       "      <td>Y</td>\n",
       "      <td>2015-01-07</td>\n",
       "      <td>Multi-vehicle Collision</td>\n",
       "      <td>Side Collision</td>\n",
       "      <td>Major Damage</td>\n",
       "      <td>Ambulance</td>\n",
       "      <td>State7</td>\n",
       "      <td>City4</td>\n",
       "      <td>Location 1413</td>\n",
       "      <td>12</td>\n",
       "      <td>...</td>\n",
       "      <td>State2</td>\n",
       "      <td>100/300</td>\n",
       "      <td>986</td>\n",
       "      <td>1218.60</td>\n",
       "      <td>0</td>\n",
       "      <td>other-relative</td>\n",
       "      <td>Vehicle12299</td>\n",
       "      <td>Toyota</td>\n",
       "      <td>Highlander</td>\n",
       "      <td>2011</td>\n",
       "    </tr>\n",
       "    <tr>\n",
       "      <th>Cust7704</th>\n",
       "      <td>Y</td>\n",
       "      <td>2015-02-26</td>\n",
       "      <td>Multi-vehicle Collision</td>\n",
       "      <td>Side Collision</td>\n",
       "      <td>Major Damage</td>\n",
       "      <td>Other</td>\n",
       "      <td>State4</td>\n",
       "      <td>City6</td>\n",
       "      <td>Location 1367</td>\n",
       "      <td>3</td>\n",
       "      <td>...</td>\n",
       "      <td>State3</td>\n",
       "      <td>250/500</td>\n",
       "      <td>576</td>\n",
       "      <td>1431.02</td>\n",
       "      <td>4235779</td>\n",
       "      <td>unmarried</td>\n",
       "      <td>Vehicle30447</td>\n",
       "      <td>Ford</td>\n",
       "      <td>Wrangler</td>\n",
       "      <td>2010</td>\n",
       "    </tr>\n",
       "  </tbody>\n",
       "</table>\n",
       "<p>5 rows × 41 columns</p>\n",
       "</div>"
      ],
      "text/plain": [
       "           ReportedFraud DateOfIncident            TypeOfIncident  \\\n",
       "CustomerID                                                          \n",
       "Cust20065              N     2015-01-09   Multi-vehicle Collision   \n",
       "Cust37589              N     2015-02-20  Single Vehicle Collision   \n",
       "Cust24312              N     2015-01-14   Multi-vehicle Collision   \n",
       "Cust5493               Y     2015-01-07   Multi-vehicle Collision   \n",
       "Cust7704               Y     2015-02-26   Multi-vehicle Collision   \n",
       "\n",
       "           TypeOfCollission SeverityOfIncident AuthoritiesContacted  \\\n",
       "CustomerID                                                            \n",
       "Cust20065    Rear Collision         Total Loss                Other   \n",
       "Cust37589    Side Collision       Minor Damage            Ambulance   \n",
       "Cust24312    Side Collision       Major Damage            Ambulance   \n",
       "Cust5493     Side Collision       Major Damage            Ambulance   \n",
       "Cust7704     Side Collision       Major Damage                Other   \n",
       "\n",
       "           IncidentState IncidentCity IncidentAddress  IncidentTime  ...  \\\n",
       "CustomerID                                                           ...   \n",
       "Cust20065         State9        City4   Location 1404            19  ...   \n",
       "Cust37589         State4        City3   Location 1675            14  ...   \n",
       "Cust24312         State5        City2   Location 1546            21  ...   \n",
       "Cust5493          State7        City4   Location 1413            12  ...   \n",
       "Cust7704          State4        City6   Location 1367             3  ...   \n",
       "\n",
       "            InsurancePolicyState Policy_CombinedSingleLimit  \\\n",
       "CustomerID                                                    \n",
       "Cust20065                 State2                    250/500   \n",
       "Cust37589                 State2                    100/300   \n",
       "Cust24312                 State1                   500/1000   \n",
       "Cust5493                  State2                    100/300   \n",
       "Cust7704                  State3                    250/500   \n",
       "\n",
       "            Policy_Deductible PolicyAnnualPremium UmbrellaLimit  \\\n",
       "CustomerID                                                        \n",
       "Cust20065                2000             1142.87             0   \n",
       "Cust37589                1000             1274.38       2857344   \n",
       "Cust24312                 745             1269.93             0   \n",
       "Cust5493                  986             1218.60             0   \n",
       "Cust7704                  576             1431.02       4235779   \n",
       "\n",
       "           InsuredRelationship     VehicleID  VehicleMake  VehicleModel  \\\n",
       "CustomerID                                                                \n",
       "Cust20065            own-child  Vehicle30662     Mercedes          E400   \n",
       "Cust37589            own-child  Vehicle17183       Toyota    Highlander   \n",
       "Cust24312       other-relative  Vehicle33982   Volkswagen        Passat   \n",
       "Cust5493        other-relative  Vehicle12299       Toyota    Highlander   \n",
       "Cust7704             unmarried  Vehicle30447         Ford      Wrangler   \n",
       "\n",
       "            VehicleYOM  \n",
       "CustomerID              \n",
       "Cust20065         2005  \n",
       "Cust37589         2010  \n",
       "Cust24312         2002  \n",
       "Cust5493          2011  \n",
       "Cust7704          2010  \n",
       "\n",
       "[5 rows x 41 columns]"
      ]
     },
     "execution_count": 2,
     "metadata": {},
     "output_type": "execute_result"
    }
   ],
   "source": [
    "# Vehicle dataset includes a problematic \"VehicleAttribute\" column that must be pivoted to avoid multiple entries per CustomerID\n",
    "df_vehicle = pd.read_csv(\"Train_Vehicle.csv\")\n",
    "df_vehicle = df_vehicle.pivot_table(index=\"CustomerID\", columns=\"VehicleAttribute\", values=\"VehicleAttributeDetails\", aggfunc=\"first\")\n",
    "df_vehicle.to_csv(\"Train_Vehicle_updated.csv\")\n",
    "\n",
    "files = [\"Train_Claim.csv\", \"Train_Demographics.csv\", \"Train_Policy.csv\", \"Train_Vehicle_updated.csv\"] # List of all non-target datasets\n",
    "df = pd.read_csv(\"Traindata_with_Target.csv\") # Dataset with targets and thus all CustomerIDs that we can use\n",
    "\n",
    "# Now we can merge the files using the CustomerIDs that have a target (\"ReportedFraud\") attached to them\n",
    "for file in files:\n",
    "    df_temp = pd.read_csv(file)\n",
    "    df = df.merge(df_temp, how=\"left\", on=\"CustomerID\")\n",
    "\n",
    "df = df.set_index(\"CustomerID\") # Use CustomerID as index\n",
    "df.head()"
   ]
  },
  {
   "cell_type": "markdown",
   "metadata": {},
   "source": [
    "###  b) Removing synonymous and noisy attributes"
   ]
  },
  {
   "cell_type": "markdown",
   "metadata": {},
   "source": [
    "With 40 independent columns, many of them are likely to not contribute to our model in any way, introducing unnecessary noise. Looking at the provided datasets, AttributeInformation file and quick checks in RapidMiner, the more obvious ones include:\n",
    "- Country. Has only 1 unique value of \"India\"\n",
    "- VehicleID: Unique for each row, so no need to have a second identifier.\n",
    "- IncidentAddress: Provides way too much location detail that will not be usable by models.\n",
    "- AmountOfTotalClaim: Is a sum of three other claim columns and as such will be used instead of those, as it avoids keeping three very correlated columns.\n",
    "- InsuredZipCode: Another way too detailed location information.\n",
    "- InsurancePolicyNumber: Another ID column unique for each record\n",
    "- VehicleModel and VehicleYOM: Provide way too much detail about each vehicle.\n",
    "- UmbrellaLimit: Noisy, uneven, includes negative values and with a large amount of values at 0.\n",
    "\n",
    "Although many more columns might have very low informational value, as per instructions, let's try to use as many of the provided features as possible."
   ]
  },
  {
   "cell_type": "code",
   "execution_count": 3,
   "metadata": {},
   "outputs": [],
   "source": [
    "df = df.drop(columns=[\"Country\",\"VehicleID\",\"IncidentAddress\",\"AmountOfInjuryClaim\",\"AmountOfPropertyClaim\",\"AmountOfVehicleDamage\",\n",
    "                      \"InsuredZipCode\",\"InsurancePolicyNumber\",\"VehicleModel\",\"VehicleYOM\",\"UmbrellaLimit\"])"
   ]
  },
  {
   "cell_type": "markdown",
   "metadata": {},
   "source": [
    "###  c) Dealing with missing and duplicate values"
   ]
  },
  {
   "cell_type": "code",
   "execution_count": 4,
   "metadata": {},
   "outputs": [
    {
     "data": {
      "text/plain": [
       "TypeOfCollission         5162\n",
       "AuthoritiesContacted     2692\n",
       "PropertyDamage          10459\n",
       "Witnesses                  46\n",
       "PoliceReport             9805\n",
       "AmountOfTotalClaim         50\n",
       "InsuredGender              30\n",
       "VehicleMake                50\n",
       "dtype: int64"
      ]
     },
     "execution_count": 4,
     "metadata": {},
     "output_type": "execute_result"
    }
   ],
   "source": [
    "# List of all labels for missing values as per the AttributeInformation PDF\n",
    "missing_values = [\"NA\", \"?\", \"???\", \"-1\", \"-5\", \"MISSINGVAL\", \"MISSEDDATA\", \"MISSINGVALUE\"]\n",
    "df.replace(missing_values, pd.NA, inplace=True) # Replace with pd.NA for now\n",
    "\n",
    "# Check columns with missing values and their counts\n",
    "miss = df.columns[df.isna().any()].tolist()\n",
    "df[miss].isna().sum()"
   ]
  },
  {
   "cell_type": "markdown",
   "metadata": {},
   "source": [
    "Variables with almost 10000 missing values could be problematic, as this is more than a third of the data, so after quickly checking their low discriminative nature and given that we had 40 columns to begin with, I decided to remove these completely. TypeOfCollision's missing values can be treated as a separate, \"Unknown\" category, rather than removing them. The remaining columns have <51 missing datapoints, which I removed due to this being a tiny proportion of the data, where imputations would introduce unnecessary complexity. Some values previously included non-numeric entries for missing values, which should be rectified."
   ]
  },
  {
   "cell_type": "code",
   "execution_count": 5,
   "metadata": {},
   "outputs": [],
   "source": [
    "df = df.drop(columns=[\"PropertyDamage\", \"PoliceReport\"])\n",
    "df[\"TypeOfCollission\"].fillna(\"Unknown\", inplace=True)\n",
    "df = df.dropna()\n",
    "df[\"Witnesses\"] = pd.to_numeric(df[\"Witnesses\"])\n",
    "df[\"AmountOfTotalClaim\"] = pd.to_numeric(df[\"AmountOfTotalClaim\"])"
   ]
  },
  {
   "cell_type": "code",
   "execution_count": 6,
   "metadata": {
    "scrolled": true
   },
   "outputs": [
    {
     "data": {
      "text/plain": [
       "0"
      ]
     },
     "execution_count": 6,
     "metadata": {},
     "output_type": "execute_result"
    }
   ],
   "source": [
    "df.duplicated().sum() # Checking for any duplicate values"
   ]
  },
  {
   "cell_type": "markdown",
   "metadata": {},
   "source": [
    "###  d) Appropriate feature selection or feature extraction"
   ]
  },
  {
   "cell_type": "markdown",
   "metadata": {},
   "source": [
    "There are several columns that could be made more useful:\n",
    "- DateOfIncident: Can be de-noised by using only day of week and month instead of full date, which has no bearing on whether fraud is committed.\n",
    "- DateOfPolicyCoverage: Duration (in days) from commencement to incident could be more useful than exact commencement date.\n",
    "- Policy_CombinedSingleLimit: Should be split into its two pieces of info - split limit and single limit.\n",
    "- CapitalGains and Loss: Lots of 0 values and related columns were found. Summing them up mitigates this issue by combining into one Net column."
   ]
  },
  {
   "cell_type": "code",
   "execution_count": 7,
   "metadata": {},
   "outputs": [
    {
     "data": {
      "image/png": "[encoded data removed]",
      "text/plain": [
       "<Figure size 640x480 with 1 Axes>"
      ]
     },
     "metadata": {},
     "output_type": "display_data"
    }
   ],
   "source": [
    "# Capital gains and losses before changes\n",
    "a = plt.hist(df[\"CapitalGains\"], bins=10, label=\"Gains\")\n",
    "b = plt.hist(df[\"CapitalLoss\"], bins=10, label=\"Losses\")\n",
    "plt.legend();"
   ]
  },
  {
   "cell_type": "code",
   "execution_count": 8,
   "metadata": {},
   "outputs": [],
   "source": [
    "# Creating all new features as described\n",
    "df[\"DateOfIncident\"] = pd.to_datetime(df[\"DateOfIncident\"])\n",
    "df[\"DateOfIncident_day\"] = df[\"DateOfIncident\"].dt.day_name()\n",
    "df[\"DateOfIncident_month\"] = df[\"DateOfIncident\"].dt.month\n",
    "\n",
    "df[\"DateOfPolicyCoverage\"] = pd.to_datetime(df[\"DateOfPolicyCoverage\"])\n",
    "df[\"PolicyDuration\"] = (df[\"DateOfIncident\"] - df[\"DateOfPolicyCoverage\"]).dt.days\n",
    "\n",
    "df[['Split Limit', 'Single Limit']] = df['Policy_CombinedSingleLimit'].str.split('/', expand=True)\n",
    "\n",
    "df[\"CapitalNet\"] = df[\"CapitalGains\"] + df[\"CapitalLoss\"]\n",
    "df.drop(columns=[\"DateOfIncident\", \"Policy_CombinedSingleLimit\", \"DateOfPolicyCoverage\", \"CapitalGains\", \"CapitalLoss\"], inplace=True)"
   ]
  },
  {
   "cell_type": "code",
   "execution_count": 9,
   "metadata": {},
   "outputs": [
    {
     "data": {
      "image/png": "[encoded data removed]",
      "text/plain": [
       "<Figure size 640x480 with 1 Axes>"
      ]
     },
     "metadata": {},
     "output_type": "display_data"
    }
   ],
   "source": [
    "# New CapitalNet column\n",
    "plt.hist(df[\"CapitalNet\"], bins=10);"
   ]
  },
  {
   "cell_type": "markdown",
   "metadata": {},
   "source": [
    "###  e) Dealing with collinearity"
   ]
  },
  {
   "cell_type": "code",
   "execution_count": 10,
   "metadata": {},
   "outputs": [
    {
     "data": {
      "text/html": [
       "<div>\n",
       "<style scoped>\n",
       "    .dataframe tbody tr th:only-of-type {\n",
       "        vertical-align: middle;\n",
       "    }\n",
       "\n",
       "    .dataframe tbody tr th {\n",
       "        vertical-align: top;\n",
       "    }\n",
       "\n",
       "    .dataframe thead th {\n",
       "        text-align: right;\n",
       "    }\n",
       "</style>\n",
       "<table border=\"1\" class=\"dataframe\">\n",
       "  <thead>\n",
       "    <tr style=\"text-align: right;\">\n",
       "      <th></th>\n",
       "      <th>Feature 1</th>\n",
       "      <th>Feature 2</th>\n",
       "      <th>Correlation</th>\n",
       "    </tr>\n",
       "  </thead>\n",
       "  <tbody>\n",
       "    <tr>\n",
       "      <th>0</th>\n",
       "      <td>IncidentTime</td>\n",
       "      <td>NumberOfVehicles</td>\n",
       "      <td>0.126536</td>\n",
       "    </tr>\n",
       "    <tr>\n",
       "      <th>1</th>\n",
       "      <td>IncidentTime</td>\n",
       "      <td>AmountOfTotalClaim</td>\n",
       "      <td>0.185790</td>\n",
       "    </tr>\n",
       "    <tr>\n",
       "      <th>2</th>\n",
       "      <td>IncidentTime</td>\n",
       "      <td>InsuredAge</td>\n",
       "      <td>0.114721</td>\n",
       "    </tr>\n",
       "    <tr>\n",
       "      <th>3</th>\n",
       "      <td>NumberOfVehicles</td>\n",
       "      <td>IncidentTime</td>\n",
       "      <td>0.126536</td>\n",
       "    </tr>\n",
       "    <tr>\n",
       "      <th>4</th>\n",
       "      <td>NumberOfVehicles</td>\n",
       "      <td>AmountOfTotalClaim</td>\n",
       "      <td>0.171122</td>\n",
       "    </tr>\n",
       "    <tr>\n",
       "      <th>5</th>\n",
       "      <td>Witnesses</td>\n",
       "      <td>Policy_Deductible</td>\n",
       "      <td>0.103334</td>\n",
       "    </tr>\n",
       "    <tr>\n",
       "      <th>6</th>\n",
       "      <td>AmountOfTotalClaim</td>\n",
       "      <td>IncidentTime</td>\n",
       "      <td>0.185790</td>\n",
       "    </tr>\n",
       "    <tr>\n",
       "      <th>7</th>\n",
       "      <td>AmountOfTotalClaim</td>\n",
       "      <td>NumberOfVehicles</td>\n",
       "      <td>0.171122</td>\n",
       "    </tr>\n",
       "    <tr>\n",
       "      <th>8</th>\n",
       "      <td>InsuredAge</td>\n",
       "      <td>IncidentTime</td>\n",
       "      <td>0.114721</td>\n",
       "    </tr>\n",
       "    <tr>\n",
       "      <th>9</th>\n",
       "      <td>InsuredAge</td>\n",
       "      <td>CustomerLoyaltyPeriod</td>\n",
       "      <td>0.933326</td>\n",
       "    </tr>\n",
       "    <tr>\n",
       "      <th>10</th>\n",
       "      <td>CustomerLoyaltyPeriod</td>\n",
       "      <td>InsuredAge</td>\n",
       "      <td>0.933326</td>\n",
       "    </tr>\n",
       "    <tr>\n",
       "      <th>11</th>\n",
       "      <td>Policy_Deductible</td>\n",
       "      <td>Witnesses</td>\n",
       "      <td>0.103334</td>\n",
       "    </tr>\n",
       "  </tbody>\n",
       "</table>\n",
       "</div>"
      ],
      "text/plain": [
       "                Feature 1              Feature 2  Correlation\n",
       "0            IncidentTime       NumberOfVehicles     0.126536\n",
       "1            IncidentTime     AmountOfTotalClaim     0.185790\n",
       "2            IncidentTime             InsuredAge     0.114721\n",
       "3        NumberOfVehicles           IncidentTime     0.126536\n",
       "4        NumberOfVehicles     AmountOfTotalClaim     0.171122\n",
       "5               Witnesses      Policy_Deductible     0.103334\n",
       "6      AmountOfTotalClaim           IncidentTime     0.185790\n",
       "7      AmountOfTotalClaim       NumberOfVehicles     0.171122\n",
       "8              InsuredAge           IncidentTime     0.114721\n",
       "9              InsuredAge  CustomerLoyaltyPeriod     0.933326\n",
       "10  CustomerLoyaltyPeriod             InsuredAge     0.933326\n",
       "11      Policy_Deductible              Witnesses     0.103334"
      ]
     },
     "execution_count": 10,
     "metadata": {},
     "output_type": "execute_result"
    }
   ],
   "source": [
    "# Getting a dataframe with only correlations of >0.1\n",
    "correl = df.corr(numeric_only=True)\n",
    "correl = correl[abs(correl)>0.1]\n",
    "correl = correl[abs(correl)<1].stack().reset_index()\n",
    "correl.columns = ['Feature 1', 'Feature 2', 'Correlation']\n",
    "correl"
   ]
  },
  {
   "cell_type": "markdown",
   "metadata": {},
   "source": [
    "CustomerLoyaltyPeriod is almost perfectly correlated with InsuredAge, so let's only keep age as the more standard attribute. The rest are not strongly correlated (<0.3)."
   ]
  },
  {
   "cell_type": "code",
   "execution_count": 11,
   "metadata": {},
   "outputs": [],
   "source": [
    "df.drop(columns=\"CustomerLoyaltyPeriod\", inplace=True)"
   ]
  },
  {
   "cell_type": "markdown",
   "metadata": {},
   "source": [
    "###  f) Scaling and encoding variables"
   ]
  },
  {
   "cell_type": "markdown",
   "metadata": {},
   "source": [
    "Categorical variables must be converted to machine-readable format by using encoders to convert categories to ordered values (for ordinal variables) or dummies (for categorical variables with no order). For a few variables, manual pre-processing is needed, as it allows for finer control over which values are ordinal and how they are ordered, while not leaking any data from for example imputations or scaling."
   ]
  },
  {
   "cell_type": "markdown",
   "metadata": {},
   "source": [
    "SeverityOfIncident is encoded as ordinal in a common sense order. However, Major Damage category was found to be the most discriminatory, so the resulting categories were 1-hot encoded, as the order itself was not providing information to the models."
   ]
  },
  {
   "cell_type": "code",
   "execution_count": 12,
   "metadata": {},
   "outputs": [],
   "source": [
    "from sklearn.preprocessing import StandardScaler, LabelEncoder, OneHotEncoder, OrdinalEncoder, QuantileTransformer, KBinsDiscretizer\n",
    "from sklearn.compose import ColumnTransformer\n",
    "\n",
    "sev = OrdinalEncoder(categories=[['Trivial Damage', 'Minor Damage', 'Major Damage', 'Total Loss']])\n",
    "df[\"SeverityOfIncident\"] = sev.fit_transform(df[[\"SeverityOfIncident\"]])"
   ]
  },
  {
   "cell_type": "markdown",
   "metadata": {},
   "source": [
    "For Education, there are three doctoral levels that cannot be ranked above/below each other, so they are converted to one, and then encoded by level of education."
   ]
  },
  {
   "cell_type": "code",
   "execution_count": 13,
   "metadata": {},
   "outputs": [],
   "source": [
    "df[\"InsuredEducationLevel\"].replace({'MD': 'Doctoral', 'PhD': 'Doctoral', 'JD' : 'Doctoral'}, inplace=True)\n",
    "edu = OrdinalEncoder(categories=[['High School', 'College', 'Associate', 'Masters', 'Doctoral']])\n",
    "df[\"InsuredEducationLevel\"] = edu.fit_transform(df[[\"InsuredEducationLevel\"]])"
   ]
  },
  {
   "cell_type": "markdown",
   "metadata": {},
   "source": [
    "Finally, the labels are encoded, as the pipeline in the pre-processing stage cannot look at the labeled data to prevent any possible leakage. Binary encoding by itself does not risk leakage."
   ]
  },
  {
   "cell_type": "code",
   "execution_count": 14,
   "metadata": {},
   "outputs": [],
   "source": [
    "lab = LabelEncoder()\n",
    "df['ReportedFraud'] = lab.fit_transform(df['ReportedFraud'])"
   ]
  },
  {
   "cell_type": "markdown",
   "metadata": {},
   "source": [
    "The remaining columns can be encoded via a pipeline, as they do not require a manual ordering and re-labeling of values and could result in leakage when scaling and other transformations are done. Policy Deductible, AnnualPremium and AmountOfTotalClaim exhibited very uneven or non-standard distributions. Deductible is discretised to three bins, while Premium and Total Claim are transformed via the QuantileEncoder, which was found to work well for the skewed normal distributions."
   ]
  },
  {
   "cell_type": "code",
   "execution_count": 15,
   "metadata": {},
   "outputs": [
    {
     "data": {
      "image/png": "[encoded data removed]",
      "text/plain": [
       "<Figure size 640x480 with 1 Axes>"
      ]
     },
     "metadata": {},
     "output_type": "display_data"
    }
   ],
   "source": [
    "plt.hist(df[\"Policy_Deductible\"]);"
   ]
  },
  {
   "cell_type": "code",
   "execution_count": 16,
   "metadata": {},
   "outputs": [
    {
     "data": {
      "image/png": "[encoded data removed]",
      "text/plain": [
       "<Figure size 640x480 with 1 Axes>"
      ]
     },
     "metadata": {},
     "output_type": "display_data"
    }
   ],
   "source": [
    "plt.hist(df['PolicyAnnualPremium']);"
   ]
  },
  {
   "cell_type": "code",
   "execution_count": 17,
   "metadata": {},
   "outputs": [
    {
     "data": {
      "image/png": "[encoded data removed]",
      "text/plain": [
       "<Figure size 640x480 with 1 Axes>"
      ]
     },
     "metadata": {},
     "output_type": "display_data"
    }
   ],
   "source": [
    "plt.hist(df[\"AmountOfTotalClaim\"]);"
   ]
  },
  {
   "cell_type": "markdown",
   "metadata": {},
   "source": [
    "The remaining columns can be converted to dummy variables, or simply scaled, using basic sklearn functions. Finally, a pre-processor is made for the pipelines, using a list of columns to encode in these specified ways. Note that some columns can appear more times, being scaled even after for example an ordinal transformation, to prevent feature dominance."
   ]
  },
  {
   "cell_type": "code",
   "execution_count": 18,
   "metadata": {},
   "outputs": [],
   "source": [
    "# List of columns per type\n",
    "bin = [\"Policy_Deductible\"]\n",
    "skew = [\"AmountOfTotalClaim\", 'PolicyAnnualPremium']\n",
    "numeric = ['IncidentTime', 'AmountOfTotalClaim', 'InsuredAge', 'CapitalNet', 'Policy_Deductible', 'PolicyAnnualPremium',\n",
    "        'PolicyDuration', \"NumberOfVehicles\", 'BodilyInjuries', 'Witnesses', 'Split Limit', 'Single Limit', \"InsuredEducationLevel\"]\n",
    "dummy = [\"TypeOfIncident\", \"AuthoritiesContacted\", \"IncidentState\", \"InsurancePolicyState\", \"InsuredRelationship\", \"SeverityOfIncident\", \"VehicleMake\",\n",
    "         \"InsuredGender\", \"InsuredOccupation\", \"InsuredHobbies\", \"DateOfIncident_day\", 'DateOfIncident_month', \"IncidentCity\",\"TypeOfCollission\"]"
   ]
  },
  {
   "cell_type": "code",
   "execution_count": 19,
   "metadata": {},
   "outputs": [],
   "source": [
    "preprocessor = ColumnTransformer(transformers=[\n",
    "        ('bin', KBinsDiscretizer(n_bins=3, encode='ordinal', strategy='uniform'), bin),\n",
    "        ('skew', QuantileTransformer(output_distribution='normal'), skew),\n",
    "        ('numeric', StandardScaler(), numeric),\n",
    "        ('dummy', OneHotEncoder(), dummy)])"
   ]
  },
  {
   "cell_type": "markdown",
   "metadata": {},
   "source": [
    "###  g) Dealing with class imbalance"
   ]
  },
  {
   "cell_type": "code",
   "execution_count": 20,
   "metadata": {},
   "outputs": [
    {
     "name": "stdout",
     "output_type": "stream",
     "text": [
      "Fraud: 7487 \n",
      "Not Fraud: 18544 \n",
      "% of fraud: 0.288\n"
     ]
    },
    {
     "data": {
      "image/png": "[encoded data removed]",
      "text/plain": [
       "<Figure size 640x480 with 1 Axes>"
      ]
     },
     "metadata": {},
     "output_type": "display_data"
    }
   ],
   "source": [
    "# Counting and plotting Fraud/Non-Fraud cases on the cleaned dataset\n",
    "fraud = df[df[\"ReportedFraud\"]==1].shape[0]\n",
    "not_fraud = df[df[\"ReportedFraud\"]==0].shape[0]\n",
    "print(\"Fraud:\",fraud, \"\\nNot Fraud:\", not_fraud, \"\\n% of fraud:\", round(fraud/(not_fraud+fraud),3))\n",
    "plt.bar([\"Yes\", \"No\"], [fraud, not_fraud]);"
   ]
  },
  {
   "cell_type": "markdown",
   "metadata": {},
   "source": [
    "There is indeed a large discrepancy between fraudulent and non-fraudulent claims, as could be expected in such data. There are several techniques to deal with such an imbalance:\n",
    "- Appropriate performance measure: As mentioned in the case study as well, we should use balanced accuracy (average of recalls) instead of any non-hollistic measures, which might favor one class over another.\n",
    "- Appropriate models: Models that better handle imbalances could be preferred, or adjusted to be able to deal with it.\n",
    "- Resampling: Over/undersampling could be implemented to get a balanced proportion of classes.\n",
    "\n",
    "The subsequent analyses will use the first two techniques to tackle the issue of class imbalance. Balanced accuracy scores will be used and models will be chosen and/or adjusted for handling class imbalances. Oversampling or undersampling of data would result in either creating synthetic data, or removing large portions of the data, and will be avoided unless the models prove to struggle with class imbalance even after adjustments."
   ]
  },
  {
   "cell_type": "markdown",
   "metadata": {},
   "source": [
    "## 4. Technique 1 (20 marks)"
   ]
  },
  {
   "cell_type": "markdown",
   "metadata": {},
   "source": [
    "### a) Discuss your motivation for choosing the technique and provide a schematic figure of the process\n",
    "\n",
    "The first technique of choice is the k-nearest neighbours algorithm. It is a fairly simple technique with a fast implementation, allowing for a good benchmark for subsequent analyses. It is a lazy classifier, skipping a standard training phase and simply making predictions as needed. Despite being simple, it can produce decision boundaries of abitrary shapes and is thus relevant even with such complex datasets as the one provided. Moreover, it has ways of dealing with class imbalance, as long as there are differences between the fraudulent and non-fraudulent cases. It is however susceptible to feature dominance and missing values, which have to fixed before creating a final model.\n",
    "\n",
    "A schematic figure of the process of kNN is shown below:\n",
    "\n",
    "<img src=\"knn.png\" alt=\"kNN\" style=\"width: 650px;\"/>"
   ]
  },
  {
   "cell_type": "markdown",
   "metadata": {},
   "source": [
    "### b) Setting hyper parameters with rationale\n",
    "\n",
    "The most important hyperparameter for kNN is the number of neighbours, deciding how many of the closest points to weigh. The weighing itself is also hugely important, as well as the distance metric used to calculate similarity. While many other hyperparameters and their values could be chosen, the initial grid search values were chosen as per the explanation above and below, as well as to keep computing time reasonable.\n",
    "- Number of neighbours: To be found via a grid search. Some experimentation was done using the elbow method to select the initial values, which cannot be too small to prevent overfitting, and too large to avoid the majority class to start having too much weight. 6, 8 and 10 were selected as the most promising candidates.\n",
    "- Weights: Distance-based voting will be used to tackle class imbalance.\n",
    "- Metric: Two standard metrics: euclidean and manhattan will be tested in grid search."
   ]
  },
  {
   "cell_type": "code",
   "execution_count": 21,
   "metadata": {},
   "outputs": [],
   "source": [
    "param_grid_knn = {'clas__n_neighbors': [6, 8, 10], # Necessary to include classifier name__ when using pipelines \n",
    "    'clas__weights': ['distance'],\n",
    "    'clas__metric': ['euclidean', 'manhattan']}"
   ]
  },
  {
   "cell_type": "markdown",
   "metadata": {},
   "source": [
    "### c) Optimising hyper parameters\n"
   ]
  },
  {
   "cell_type": "markdown",
   "metadata": {},
   "source": [
    "First, import all sklearn libraries that will be used."
   ]
  },
  {
   "cell_type": "code",
   "execution_count": 22,
   "metadata": {},
   "outputs": [],
   "source": [
    "from sklearn.model_selection import train_test_split\n",
    "from sklearn.neighbors import KNeighborsClassifier\n",
    "from sklearn.pipeline import Pipeline\n",
    "from sklearn.metrics import balanced_accuracy_score\n",
    "from sklearn.model_selection import GridSearchCV\n",
    "from sklearn.model_selection import StratifiedKFold\n",
    "from sklearn.model_selection import cross_val_score\n",
    "from sklearn.metrics import make_scorer"
   ]
  },
  {
   "cell_type": "markdown",
   "metadata": {},
   "source": [
    "Next, prepare our dataset and labels and do a train/test split. This needs to be stratified to account for the target class imbalance. The testing set will be left completely unseen and only used for final performance testing in following sections, so as to avoid any potential data leakage. The test size is kept at 20%, as our dataset is fairly large and it is better to have lots of training values, especially for kNN."
   ]
  },
  {
   "cell_type": "code",
   "execution_count": 23,
   "metadata": {},
   "outputs": [],
   "source": [
    "X = df.iloc[:,1:]\n",
    "y = df[\"ReportedFraud\"]\n",
    "\n",
    "X_train, X_test, y_train, y_test = train_test_split(X, y, test_size=0.2, stratify=y, random_state=0)"
   ]
  },
  {
   "cell_type": "markdown",
   "metadata": {},
   "source": [
    "Finally, the hyperparameters can start being optimised, using a Grid Search."
   ]
  },
  {
   "cell_type": "code",
   "execution_count": 24,
   "metadata": {},
   "outputs": [],
   "source": [
    "# Prepare pipeline of preprocessing and classification\n",
    "knn = KNeighborsClassifier()\n",
    "pipe_knn = Pipeline([(\"prep\", preprocessor), (\"clas\", knn)])\n",
    "\n",
    "scoring = make_scorer(balanced_accuracy_score) # Use balanced accuracy throughout"
   ]
  },
  {
   "cell_type": "code",
   "execution_count": 25,
   "metadata": {},
   "outputs": [],
   "source": [
    "# Prepare score holders\n",
    "non_nested_scores = 0\n",
    "nested_scores = 0"
   ]
  },
  {
   "cell_type": "markdown",
   "metadata": {},
   "source": [
    "The process uses an inner cross-validation procedure to obtain optimal hyperparameters, and an outer cross-validation to evaluate the models' generalisation ability, still using only the training data. It uses a stratified split (5 and 4 folds to perform rigorous CV, but avoid too much computational intensity) and balanced accuracy scoring to account for the class imbalance."
   ]
  },
  {
   "cell_type": "code",
   "execution_count": 26,
   "metadata": {},
   "outputs": [],
   "source": [
    "inner_cv = StratifiedKFold(n_splits=5, shuffle=True, random_state=1)\n",
    "outer_cv = StratifiedKFold(n_splits=4, shuffle=True, random_state=1) \n",
    "\n",
    "search_knn = GridSearchCV(pipe_knn, param_grid=param_grid_knn, cv=inner_cv, scoring=scoring)\n",
    "search_knn.fit(X_train, y_train)\n",
    "non_nested_scores = search_knn.best_score_\n",
    "\n",
    "nested_score = cross_val_score(search_knn, X=X_train, y=y_train, cv=outer_cv, scoring=scoring)\n",
    "nested_scores = nested_score.mean()"
   ]
  },
  {
   "cell_type": "code",
   "execution_count": 27,
   "metadata": {},
   "outputs": [
    {
     "data": {
      "text/plain": [
       "{'clas__metric': 'manhattan',\n",
       " 'clas__n_neighbors': 10,\n",
       " 'clas__weights': 'distance'}"
      ]
     },
     "execution_count": 27,
     "metadata": {},
     "output_type": "execute_result"
    }
   ],
   "source": [
    "search_knn.best_params_"
   ]
  },
  {
   "cell_type": "markdown",
   "metadata": {},
   "source": [
    "### d) Performance metrics for training"
   ]
  },
  {
   "cell_type": "code",
   "execution_count": 28,
   "metadata": {},
   "outputs": [
    {
     "name": "stdout",
     "output_type": "stream",
     "text": [
      "0.9150107993214226 0.9154277492104475\n"
     ]
    }
   ],
   "source": [
    "print(nested_scores, non_nested_scores)"
   ]
  },
  {
   "cell_type": "markdown",
   "metadata": {},
   "source": [
    "The nested cross-validation ensures that our model finds optimal hyperparameters, but also generalises well to unseen data, using its own folds to do training and testing on different parts of the training dataset multiple times. The final nested score is 91.50% and non-nested is 91.54%, showing the expected slight drop in balanced accuracy when nested CV is performed over non-nested CV.\n",
    "\n",
    "We can compare this with the results of fitting a model without using any CV, just fitting the kNN using the optimal hyperparameters found previously and checking its accuracy on the training set."
   ]
  },
  {
   "cell_type": "code",
   "execution_count": 29,
   "metadata": {},
   "outputs": [
    {
     "name": "stdout",
     "output_type": "stream",
     "text": [
      "1.0\n"
     ]
    }
   ],
   "source": [
    "knn_nocv = search_knn.best_estimator_\n",
    "knn_nocv.fit(X_train, y_train)\n",
    "\n",
    "y_pred = knn_nocv.predict(X_train)\n",
    "acc = balanced_accuracy_score(y_train, y_pred)\n",
    "print(acc)"
   ]
  },
  {
   "cell_type": "markdown",
   "metadata": {},
   "source": [
    "The training accuracy for a kNN without any CV is not very useful as it is a lazy classifier where the \"fit\" function simply stores the training datapoints - i.e. there is no training phase. Calculating distance from datapoints that are already in the dataset will almost always return 100% accuracy, especially with distance-based voting. However, the cross-validation process gives us confidence that it is indeed the best possible model to use even for unseen data.\n",
    "\n",
    "We can plot the final results of balanced accuracies for nested CV, non-nested CV and no CV processes:"
   ]
  },
  {
   "cell_type": "code",
   "execution_count": 30,
   "metadata": {},
   "outputs": [
    {
     "data": {
      "image/png": "[encoded data removed]",
      "text/plain": [
       "<Figure size 640x480 with 1 Axes>"
      ]
     },
     "metadata": {},
     "output_type": "display_data"
    }
   ],
   "source": [
    "models = [\"Nested CV\", \"Non-nested CV\", \"No CV\"]\n",
    "scores = [nested_scores, non_nested_scores, acc]\n",
    "plt.bar(models, scores)\n",
    "plt.ylim(0.5, 1.0)\n",
    "plt.ylabel('Balanced accuracy')\n",
    "plt.title('kNN training performance comparison');"
   ]
  },
  {
   "cell_type": "markdown",
   "metadata": {},
   "source": [
    "## 5. Technique 2 (20 marks)"
   ]
  },
  {
   "cell_type": "markdown",
   "metadata": {},
   "source": [
    "### a) Discuss your motivation for choosing the technique and  provide a schematic figure of the process\n",
    "\n",
    "The second technique is a random forest classifier. Random forests are good at handling imbalanced datasets and can also identify relevant features, which might be helpful with the amount of variables provided. It works well against overfitting and contrasts well with kNN, as it has a standard training phase where it learns patterns in the data which are represented as an ensemble of decision trees, which simply linearly separate the provided data based on a subset of variables to achieve the highest purity. The choice of random samples and features should also prevent overfitting well. It is however a bit more challenging to fine-tune and more computationally expensive to train.\n",
    "\n",
    "A schematic figure of the process of Random Forest is shown below:\n",
    "\n",
    "<img src=\"rf.png\" alt=\"kNN\" style=\"width: 800px;\"/>"
   ]
  },
  {
   "cell_type": "markdown",
   "metadata": {},
   "source": [
    "### b) Setting hyper parameters with rationale"
   ]
  },
  {
   "cell_type": "markdown",
   "metadata": {},
   "source": [
    "The most important parameter for a random forest is the number of decision trees, or estimators that are created. The way these decision trees are created using different criteria is also considered below.\n",
    "- Estimators: The final number will be found via a grid search, using potential candidates found using initial experimentation. Values are kept reasonable to avoid long training times and overfitting.\n",
    "- Criterion: Will use the default Gini coefficient to determine the quality of a split.\n",
    "- Max depth: A value of 20 is used to prevent extremely large trees and overfitting.\n",
    "- Weight: Class weight will be \"balanced\" to account for the class imbalance by weighing inversely proportional to frequency.\n",
    "- Max features: The number of features to choose for determining splits for each tree will be kept at the default and standard square root of all features.\n",
    "- Min samples split: This value can be increased to control the size of trees by limiting when they can still split. Two values will be tested to try and see if it helps with overfitting."
   ]
  },
  {
   "cell_type": "code",
   "execution_count": 31,
   "metadata": {},
   "outputs": [],
   "source": [
    "param_grid_rf = {'clas__n_estimators': [100, 200],\n",
    "    'clas__min_samples_split': [4, 6],\n",
    "    'clas__max_depth': [20],\n",
    "    'clas__class_weight': ['balanced']}"
   ]
  },
  {
   "cell_type": "markdown",
   "metadata": {},
   "source": [
    "### c) Optimising hyper parameters\n"
   ]
  },
  {
   "cell_type": "code",
   "execution_count": 32,
   "metadata": {},
   "outputs": [],
   "source": [
    "from sklearn.ensemble import RandomForestClassifier\n",
    "\n",
    "rf = RandomForestClassifier()\n",
    "pipe_rf = Pipeline([(\"prep\", preprocessor), (\"clas\", rf)])"
   ]
  },
  {
   "cell_type": "markdown",
   "metadata": {},
   "source": [
    "We will use the same training set, test set and prepared methods as for kNN to ensure fairness and consistency."
   ]
  },
  {
   "cell_type": "code",
   "execution_count": 33,
   "metadata": {},
   "outputs": [],
   "source": [
    "inner_cv = StratifiedKFold(n_splits=5, shuffle=True, random_state=2)\n",
    "outer_cv = StratifiedKFold(n_splits=4, shuffle=True, random_state=2)\n",
    "\n",
    "search_rf = GridSearchCV(pipe_rf, param_grid=param_grid_rf, cv=inner_cv, scoring=scoring)\n",
    "search_rf.fit(X_train, y_train)\n",
    "non_nested_scores = search_rf.best_score_\n",
    "\n",
    "nested_score = cross_val_score(search_rf, X=X_train, y=y_train, cv=outer_cv, scoring=scoring)\n",
    "nested_scores = nested_score.mean()"
   ]
  },
  {
   "cell_type": "code",
   "execution_count": 34,
   "metadata": {},
   "outputs": [
    {
     "data": {
      "text/plain": [
       "{'clas__class_weight': 'balanced',\n",
       " 'clas__max_depth': 20,\n",
       " 'clas__min_samples_split': 4,\n",
       " 'clas__n_estimators': 200}"
      ]
     },
     "execution_count": 34,
     "metadata": {},
     "output_type": "execute_result"
    }
   ],
   "source": [
    "search_rf.best_params_"
   ]
  },
  {
   "cell_type": "markdown",
   "metadata": {},
   "source": [
    "### d) Performance metrics for training"
   ]
  },
  {
   "cell_type": "code",
   "execution_count": 35,
   "metadata": {},
   "outputs": [
    {
     "name": "stdout",
     "output_type": "stream",
     "text": [
      "0.8713098949739075 0.8742721073857866\n"
     ]
    }
   ],
   "source": [
    "print(nested_scores, non_nested_scores)"
   ]
  },
  {
   "cell_type": "markdown",
   "metadata": {},
   "source": [
    "The final result of the nested CV is 87.13% and non-nested is 87.43%.\n",
    "\n",
    "We can once again compare this with no CV scores."
   ]
  },
  {
   "cell_type": "code",
   "execution_count": 36,
   "metadata": {},
   "outputs": [
    {
     "name": "stdout",
     "output_type": "stream",
     "text": [
      "0.9656542499582005\n"
     ]
    }
   ],
   "source": [
    "rf_nocv = search_rf.best_estimator_\n",
    "rf_nocv.fit(X_train, y_train)\n",
    "\n",
    "y_pred = rf_nocv.predict(X_train)\n",
    "acc = balanced_accuracy_score(y_train, y_pred)\n",
    "print(acc)"
   ]
  },
  {
   "cell_type": "markdown",
   "metadata": {},
   "source": [
    "The training performance without any CV is much higher at 96.57%, despite using the same hyperparameters and process. This shows why it is necessary to perform at least some kind of cross-validation to get much more representative measures of performance. Despite the model seemingly overfitting when used on the entire training data, it still comes up as the top model to use from the cross-validation.\n",
    "\n",
    "Finally, we can plot all the results."
   ]
  },
  {
   "cell_type": "code",
   "execution_count": 37,
   "metadata": {},
   "outputs": [
    {
     "data": {
      "image/png": "[encoded data removed]",
      "text/plain": [
       "<Figure size 640x480 with 1 Axes>"
      ]
     },
     "metadata": {},
     "output_type": "display_data"
    }
   ],
   "source": [
    "models = [\"Nested CV\", \"Non-nested CV\", \"No CV\"]\n",
    "scores = [nested_scores, non_nested_scores, acc]\n",
    "plt.bar(models, scores)\n",
    "plt.ylim(0.5, 1.0)\n",
    "plt.ylabel('Balanced accuracy')\n",
    "plt.title('Random Forest training performance comparison');"
   ]
  },
  {
   "cell_type": "markdown",
   "metadata": {},
   "source": [
    "## 6. Comparison of metrics performance for testing (16 marks)"
   ]
  },
  {
   "cell_type": "markdown",
   "metadata": {},
   "source": [
    "### a) Use of cross validation for both techniques to deal with over-fitting"
   ]
  },
  {
   "cell_type": "markdown",
   "metadata": {},
   "source": [
    "Cross-validation was implemented in two ways - nested and non-nested - for the selection of hyperparameters and evaluation of generalisation ability of each model. This was done separately in the previous sections, as it made sense to compare among them for each technique rather than return to this analysis later. The results were also compared with a direct fitting on the entire testing set for each model, which led to much too optimistic final accuracies for both models. The subsequent section will reveal whether the nested CV results are indeed representative of the final testing performance."
   ]
  },
  {
   "cell_type": "markdown",
   "metadata": {},
   "source": [
    "### b) Comparison with appropriate metrics for testing"
   ]
  },
  {
   "cell_type": "markdown",
   "metadata": {},
   "source": [
    "Despite the cross-validation, this was still all done on the training data and the final average of the balanced accuracies from the nested CV is still not guaranteed to be an unbiased measure of performance. We will thus measure performance of the final best model for each technique on the completely unseen testing data."
   ]
  },
  {
   "cell_type": "code",
   "execution_count": 48,
   "metadata": {},
   "outputs": [],
   "source": [
    "from sklearn.metrics import confusion_matrix, ConfusionMatrixDisplay, recall_score, precision_score, f1_score\n",
    "\n",
    "def Metrics(technique):\n",
    "    final = technique.best_estimator_\n",
    "    y_pred = final.predict(X_test)\n",
    "    print(\"Balanced accuracy & error: \", round(balanced_accuracy_score(y_test, y_pred)*100, 2), round((1-balanced_accuracy_score(y_test, y_pred))*100, 2))\n",
    "    print(\"F1 score: \", round(f1_score(y_test, y_pred)*100, 2))\n",
    "    print(\"Detect fraud: \", round(recall_score(y_test, y_pred)*100, 2))\n",
    "    print(\"Detect not-fraud: \", round(recall_score(y_test, y_pred, pos_label=0)*100, 2))\n",
    "    print(\"Predict fraud: \", round(precision_score(y_test, y_pred)*100, 2))\n",
    "    print(\"Predict not-fraud: \", round(precision_score(y_test, y_pred, pos_label=0)*100, 2))\n",
    "    cm = confusion_matrix(y_test, y_pred, labels=technique.classes_, normalize='all') # Normalise over everything, to see distribution\n",
    "    disp = ConfusionMatrixDisplay(confusion_matrix=cm, display_labels=technique.classes_)\n",
    "    disp.plot()\n",
    "    plt.show()"
   ]
  },
  {
   "cell_type": "code",
   "execution_count": 49,
   "metadata": {},
   "outputs": [
    {
     "name": "stdout",
     "output_type": "stream",
     "text": [
      "Balanced accuracy & error:  91.13 8.87\n",
      "F1 score:  89.14\n",
      "Detect fraud:  84.11\n",
      "Detect not-fraud:  98.14\n",
      "Predict fraud:  94.81\n",
      "Predict not-fraud:  93.86\n"
     ]
    },
    {
     "data": {
      "image/png": "[encoded data removed]",
      "text/plain": [
       "<Figure size 640x480 with 2 Axes>"
      ]
     },
     "metadata": {},
     "output_type": "display_data"
    }
   ],
   "source": [
    "Metrics(search_knn)"
   ]
  },
  {
   "cell_type": "code",
   "execution_count": 50,
   "metadata": {},
   "outputs": [
    {
     "name": "stdout",
     "output_type": "stream",
     "text": [
      "Balanced accuracy & error:  87.47 12.53\n",
      "F1 score:  83.82\n",
      "Detect fraud:  78.5\n",
      "Detect not-fraud:  96.44\n",
      "Predict fraud:  89.91\n",
      "Predict not-fraud:  91.74\n"
     ]
    },
    {
     "data": {
      "image/png": "[encoded data removed]",
      "text/plain": [
       "<Figure size 640x480 with 2 Axes>"
      ]
     },
     "metadata": {},
     "output_type": "display_data"
    }
   ],
   "source": [
    "Metrics(search_rf)"
   ]
  },
  {
   "cell_type": "markdown",
   "metadata": {},
   "source": [
    "Indeed the nested CV performance was the most indicative of final testing performance of each model. The final results show that kNN has a greater overall accuracy as well as all the other individual measures reported, whether holistic or not. Particularly, it excels in minimising incorrectly predicted fraud cases, which is important given that getting this wrong results in losing a customer."
   ]
  },
  {
   "cell_type": "markdown",
   "metadata": {},
   "source": [
    "### c) Model selection (ROC or other charts)"
   ]
  },
  {
   "cell_type": "markdown",
   "metadata": {},
   "source": [
    "According to Tan et al. (2020), the precision-recall (PR) curve is \"more suited for evaluating classification performance in the presence of class imbalance\" and thus used for our model selection. It is visualised below:"
   ]
  },
  {
   "cell_type": "code",
   "execution_count": 41,
   "metadata": {},
   "outputs": [
    {
     "data": {
      "image/png": "[encoded data removed]",
      "text/plain": [
       "<Figure size 640x480 with 1 Axes>"
      ]
     },
     "metadata": {},
     "output_type": "display_data"
    }
   ],
   "source": [
    "from sklearn.metrics import PrecisionRecallDisplay, auc\n",
    "\n",
    "display_knn = PrecisionRecallDisplay.from_estimator(search_knn.best_estimator_, X_test, y_test, name=\"kNN\", ax=plt.gca())\n",
    "display_rf = PrecisionRecallDisplay.from_estimator(search_rf.best_estimator_, X_test, y_test, name=\"Forest\", ax=plt.gca())"
   ]
  },
  {
   "cell_type": "markdown",
   "metadata": {},
   "source": [
    "## 7. Final Recommendation of Best Model (8 marks)"
   ]
  },
  {
   "cell_type": "markdown",
   "metadata": {},
   "source": [
    "### a) Discuss the results from a technical perspective, for example, overfitting discussion, complexity and efficiency"
   ]
  },
  {
   "cell_type": "markdown",
   "metadata": {},
   "source": [
    "The precision-recall curves are summarised by the average precision (AP) score. This is calculated as a weighted sum of precisions at every threshold, weighing by the increase in recall, providing a very robust performance indicator. Although the random forest has a slightly higher AP score, this is not a perfect guarantee of a better model. The curves perform differently for different thresholds and with the tiny difference in score, it is not possible to say that one model overperforms the other. However, the kNN has a much better balanced accuracy, f1 score and all other related metrics on the final test which set are all a sign of it being the more suitable model of the two for the problem at hand.\n",
    "\n",
    "Through hyperparameter selection, the kNN minimised overfitting and performed similarly for the training (with CV) and testing sets, achieving a final balanced accuracy score of 91.1% (error of 8.9%). This is more than the desired error of 5% or less, but a business analysis of the achieved error must also be taken into account (debated in following section). The model is fairly easy to understand and fast to implement, and adjustments to it can be made by simply adding new datapoints without having to retrain the model. It is however slightly more computationally expensive to predict new data than with a traditional trained model, especially if the dataset significantly increases in size in the future."
   ]
  },
  {
   "cell_type": "markdown",
   "metadata": {},
   "source": [
    "### b) Discuss the results from a business perspective, for example, results interpretation, relevance and balance with technical perspective"
   ]
  },
  {
   "cell_type": "markdown",
   "metadata": {},
   "source": [
    "To get an insight into how the model will affect business. a pricing model is needed."
   ]
  },
  {
   "cell_type": "code",
   "execution_count": 42,
   "metadata": {},
   "outputs": [
    {
     "data": {
      "text/plain": [
       "52308.54547349406"
      ]
     },
     "execution_count": 42,
     "metadata": {},
     "output_type": "execute_result"
    }
   ],
   "source": [
    "claims = pd.read_csv(\"Train_Claim.csv\")\n",
    "claims.replace(missing_values, pd.NA, inplace=True)\n",
    "claims[\"AmountOfTotalClaim\"] = pd.to_numeric(claims[\"AmountOfTotalClaim\"])\n",
    "\n",
    "mean_claim = claims[\"AmountOfTotalClaim\"].mean()\n",
    "mean_claim"
   ]
  },
  {
   "cell_type": "markdown",
   "metadata": {},
   "source": [
    "The total amount of claims in the customer base is 10%. We are only given data for three months and the time scale is not specified, so let's use 4x that value as a measure of total customers in a year."
   ]
  },
  {
   "cell_type": "code",
   "execution_count": 43,
   "metadata": {},
   "outputs": [
    {
     "data": {
      "text/plain": [
       "1153440"
      ]
     },
     "execution_count": 43,
     "metadata": {},
     "output_type": "execute_result"
    }
   ],
   "source": [
    "given_claims = claims[\"AmountOfTotalClaim\"].size\n",
    "no_customers = given_claims*10*4\n",
    "no_customers"
   ]
  },
  {
   "cell_type": "markdown",
   "metadata": {},
   "source": [
    "In a year then, 10% of the customers will have a claim and we can use the calculated average for its amount (in Indian rupees). The yearly gross profit must be double this amount and the company should thus charge this amount divided into its customer base."
   ]
  },
  {
   "cell_type": "code",
   "execution_count": 44,
   "metadata": {},
   "outputs": [
    {
     "name": "stdout",
     "output_type": "stream",
     "text": [
      "6033476869.094699\n",
      "10461.709094698812\n"
     ]
    }
   ],
   "source": [
    "total_claim = (no_customers*0.1)*mean_claim\n",
    "gross_profit = 2*total_claim\n",
    "charge = gross_profit/no_customers\n",
    "print(total_claim)\n",
    "print(charge)"
   ]
  },
  {
   "cell_type": "markdown",
   "metadata": {},
   "source": [
    "To get to the final estimations, we can use the results from our normalised confusion matrices. For the kNN, 24% of all yearly claims will be correctly avoided, while 1.3% is flagged incorrectly and these customers are lost. 74.6% passes through as before, with the 4.6% representing a potential improvement for our model."
   ]
  },
  {
   "cell_type": "code",
   "execution_count": 51,
   "metadata": {},
   "outputs": [],
   "source": [
    "lossknn = 0.013*(no_customers/10)*charge\n",
    "gainknn = 0.24*(no_customers/10)*mean_claim\n",
    "lossrf = 0.025*(no_customers/10)*charge\n",
    "gainrf = 0.23*(no_customers/10)*mean_claim"
   ]
  },
  {
   "cell_type": "code",
   "execution_count": 52,
   "metadata": {},
   "outputs": [
    {
     "data": {
      "image/png": "[encoded data removed]",
      "text/plain": [
       "<Figure size 640x480 with 1 Axes>"
      ]
     },
     "metadata": {},
     "output_type": "display_data"
    }
   ],
   "source": [
    "data = {\"Comparison\": [\"No model\", \"kNN\", \"RF\"], \"Gross profit\": [gross_profit, gross_profit-lossknn, gross_profit-lossrf],\n",
    "        \"Claims paid\": [total_claim, total_claim-gainknn, total_claim-gainrf],\n",
    "        \"Operating profit\": [gross_profit-total_claim, gross_profit-lossknn-(total_claim-gainknn), gross_profit-lossrf-(total_claim-gainrf)]}\n",
    "chart = pd.DataFrame(data)\n",
    "chart.plot(x='Comparison', kind='bar')\n",
    "plt.ylabel('Amount in Indian rupees')\n",
    "plt.tight_layout()"
   ]
  },
  {
   "cell_type": "markdown",
   "metadata": {},
   "source": [
    "Due to the technical superiority of the kNN, it can also achieve the highest operating profit. Although some customers who submit a claim will be incorrectly flagged as fraudulent and thus lost and reduce the gross profit, this represents only 0.13% of the entire customer base. On the flip side, 24% of all claims made in a year can be avoided using the model, with an average claim costing 5x more than what a customer is charged. Due to this, even a model with a higher error rate than the desired 5% will be beneficial to the firm, over just paying out all claims. However, the impact of customer loss might be higher than simply losing their yearly charges and damage to the customer base or reputation in the long run should also be considered."
   ]
  },
  {
   "cell_type": "markdown",
   "metadata": {},
   "source": [
    "## 8. Conclusion (8 marks)"
   ]
  },
  {
   "cell_type": "markdown",
   "metadata": {},
   "source": [
    "### a) What has been successfully accomplished and what has not been successful?\n",
    "\n",
    "The final model was successful in providing a financially viable alternative to the client and there are not many reasons for not employing the model to the problem as described in the case study. The biggest shortcoming is that the desired error rate was not achieved. This could be due to many reasons related to both the model creation phase and the nature of the data, where it is in the best interest of a person committing fraud not to fall into obvious categories and thus such large accuracies might not even be feasible. The recommended model is thoroughly evaluated to give us confidence that it can generalise well to new data, which is the most important part when trying to predict fraud in the real world. Continuously tweaking the model to fit better to the final test data could actually result in overfitting it and defeat this purpose."
   ]
  },
  {
   "cell_type": "markdown",
   "metadata": {},
   "source": [
    "### b) Reflecting back on the analysis, what could you have done differently if you were to do the project again?\n",
    "\n",
    "Pre-processing could definitely have been more thorough. With enough domain knowledge and testing, new features and feature spaces could have been extracted, and a different pre-processing pipeline fit for each model to provide them with the best possible data. This could include debating possible factors with domain experts. Hyperparameter optimisation could also have been more rigorous and a more powerful computational device should be used next time to be able to test more things in the limited time. This would also allow many different models to be tested, which could work better given enough time for fine-tuning. Using other tools such as RapidMiner for experimentation more could also prove fruitful."
   ]
  },
  {
   "cell_type": "markdown",
   "metadata": {},
   "source": [
    "### c) Provide a wish list of future work that you would like to do\n",
    "\n",
    "The project could particularly be improved by using real accident data, such as damage photos, brake marks etc., which should all be standard measures when such accidents happen. Being able to implement a computer vision model to aid in fraud detection could be a very interesting exercise."
   ]
  },
  {
   "cell_type": "code",
   "execution_count": null,
   "metadata": {},
   "outputs": [],
   "source": []
  }
 ],
 "metadata": {
  "kernelspec": {
   "display_name": "Python 3 (ipykernel)",
   "language": "python",
   "name": "python3"
  },
  "language_info": {
   "codemirror_mode": {
    "name": "ipython",
    "version": 3
   },
   "file_extension": ".py",
   "mimetype": "text/x-python",
   "name": "python",
   "nbconvert_exporter": "python",
   "pygments_lexer": "ipython3",
   "version": "3.12.4"
  }
 },
 "nbformat": 4,
 "nbformat_minor": 4
}
